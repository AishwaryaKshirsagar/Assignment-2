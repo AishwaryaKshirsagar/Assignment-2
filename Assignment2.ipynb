{
  "nbformat": 4,
  "nbformat_minor": 0,
  "metadata": {
    "colab": {
      "name": "Assignment2.ipynb",
      "provenance": [],
      "authorship_tag": "ABX9TyPA3AmtRXffh2giySf5HeX2",
      "include_colab_link": true
    },
    "kernelspec": {
      "name": "python3",
      "display_name": "Python 3"
    },
    "language_info": {
      "name": "python"
    }
  },
  "cells": [
    {
      "cell_type": "markdown",
      "metadata": {
        "id": "view-in-github",
        "colab_type": "text"
      },
      "source": [
        "<a href=\"https://colab.research.google.com/github/AishwaryaKshirsagar/Assignment-2/blob/main/Assignment2.ipynb\" target=\"_parent\"><img src=\"https://colab.research.google.com/assets/colab-badge.svg\" alt=\"Open In Colab\"/></a>"
      ]
    },
    {
      "cell_type": "markdown",
      "metadata": {
        "id": "MUifObWADusD"
      },
      "source": [
        "Task 2\n",
        "\n",
        "SIRSS2228\n",
        "\n",
        "\n",
        "Aishwarya Kshirsagar\n",
        "\n",
        "The task involves dealing with lambda,map,filter functions and performing basic operations for finding prime factors,maximum numbers,extraction of words from lists."
      ]
    },
    {
      "cell_type": "code",
      "metadata": {
        "id": "uKvaYP09lcPq"
      },
      "source": [
        "# Q1. Write a lambda expression to extract first word of a string.\n",
        "# Q2. Write a function to extract first word of s string (with many words separated by space).\n",
        "# Q3. Extract the first word from every string from a list of strings by using map function.\n",
        "# Q4. Write a function to return a list of prime factors of a given number.\n",
        "# Q5. Write a function that finds 2nd largest among 4 numbers (Repetitions are allowed, without sorting)."
      ],
      "execution_count": null,
      "outputs": []
    },
    {
      "cell_type": "code",
      "metadata": {
        "colab": {
          "base_uri": "https://localhost:8080/"
        },
        "id": "nYhSFG0Glchn",
        "outputId": "69fdfeba-c227-4d14-ddc8-d1137105579f"
      },
      "source": [
        "# Q1. Write a lambda expression to extract first word of a string.\n",
        "string = \"function to extract first word of s string \"\n",
        "first_word = lambda i: string.split()[i]\n",
        "print(first_word(0))"
      ],
      "execution_count": 12,
      "outputs": [
        {
          "output_type": "stream",
          "text": [
            "function\n"
          ],
          "name": "stdout"
        }
      ]
    },
    {
      "cell_type": "code",
      "metadata": {
        "colab": {
          "base_uri": "https://localhost:8080/"
        },
        "id": "zN0OzpcuAbKg",
        "outputId": "c9e4d85a-a0ac-44fe-832c-04432c832d14"
      },
      "source": [
        "# Q2. Write a function to extract first word of s string (with many words separated by space).\n",
        "\n",
        "a = \"function to extract first word of s string \"\n",
        "def func(b):\n",
        "  return b.split()[0]\n",
        "print(func(a))"
      ],
      "execution_count": 11,
      "outputs": [
        {
          "output_type": "stream",
          "text": [
            "function\n"
          ],
          "name": "stdout"
        }
      ]
    },
    {
      "cell_type": "code",
      "metadata": {
        "colab": {
          "base_uri": "https://localhost:8080/"
        },
        "id": "U_GrgMT4Blz1",
        "outputId": "2d71885c-0613-4eac-f0c3-dab1db46b554"
      },
      "source": [
        "# Q3. Extract the first word from every string from a list of strings by using map function.\n",
        "HP = ['Tom Felton', 'Daniel Radcliffe', 'Ema Watson', 'Rupert Grint']\n",
        "list(map(lambda s: s.split()[0], HP))"
      ],
      "execution_count": 10,
      "outputs": [
        {
          "output_type": "execute_result",
          "data": {
            "text/plain": [
              "['Tom', 'Daniel', 'Ema', 'Rupert']"
            ]
          },
          "metadata": {
            "tags": []
          },
          "execution_count": 10
        }
      ]
    },
    {
      "cell_type": "code",
      "metadata": {
        "colab": {
          "base_uri": "https://localhost:8080/"
        },
        "id": "fVxVMWoeBmb5",
        "outputId": "35ed5a55-d6c9-4d1c-b47d-ea4bde1f8d68"
      },
      "source": [
        "# Q4. Write a function to return a list of prime factors of a given number.\n",
        "def PrimeFactor(x):\n",
        "    prime_fact = []\n",
        "    y = 2\n",
        "\n",
        "    while y <= x:\n",
        "        if x % y == 0:\n",
        "            prime_fact.append(y)\n",
        "            x = x/y\n",
        "        else:\n",
        "            y += 1\n",
        "    return prime_fact\n",
        "\n",
        "print(PrimeFactor(75))"
      ],
      "execution_count": 9,
      "outputs": [
        {
          "output_type": "stream",
          "text": [
            "[3, 5, 5]\n"
          ],
          "name": "stdout"
        }
      ]
    },
    {
      "cell_type": "code",
      "metadata": {
        "colab": {
          "base_uri": "https://localhost:8080/"
        },
        "id": "gz5QpAcKBmnc",
        "outputId": "36e5d5b9-2d5f-4353-c864-9dd723c9ca9e"
      },
      "source": [
        "# Q5. Write a function that finds 2nd largest among 4 numbers (Repetitions are allowed,without sorting).\n",
        "def max_2(arr):\n",
        "    a = set(arr)\n",
        "    a = list(a)\n",
        "    b = max(a)\n",
        "    a.remove(b)\n",
        "    b = max(a)\n",
        "    return b\n",
        "\n",
        "l = input()\n",
        "l = l.split()\n",
        "l = list(map(int, l))\n",
        "print(max_2(l))"
      ],
      "execution_count": 7,
      "outputs": [
        {
          "output_type": "stream",
          "text": [
            "1 2 3 4\n",
            "3\n"
          ],
          "name": "stdout"
        }
      ]
    }
  ]
}